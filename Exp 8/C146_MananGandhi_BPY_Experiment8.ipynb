{
 "cells": [
  {
   "cell_type": "markdown",
   "metadata": {},
   "source": [
    "# Question 1"
   ]
  },
  {
   "cell_type": "code",
   "execution_count": null,
   "metadata": {},
   "outputs": [],
   "source": [
    "from tkinter import *\n",
    "from tkinter import messagebox\n",
    "\n",
    "window = Tk()\n",
    "label = Label(window, text=\"Enter your name:\")\n",
    "label.grid(row=0, column=0)\n",
    "entry = Entry(window, width=10)\n",
    "entry.grid(row=0, column=1)\n",
    "\n",
    "def submit():\n",
    "    name = entry.get()\n",
    "    messagebox.showinfo(\"Name\", \"Hello, \" + name)\n",
    "\n",
    "button = Button(window, text=\"Submit\", command=submit)\n",
    "button.grid(row=1, column=0, columnspan=2)\n",
    "\n",
    "window.mainloop()\n"
   ]
  },
  {
   "cell_type": "markdown",
   "metadata": {},
   "source": [
    "# Question 2"
   ]
  },
  {
   "cell_type": "code",
   "execution_count": null,
   "metadata": {},
   "outputs": [],
   "source": [
    "from tkinter import *\n",
    "\n",
    "window = Tk()\n",
    "canvas = Canvas(window, width=400, height=400)\n",
    "canvas.pack()\n",
    "canvas.create_oval(100, 100, 300, 300, fill=\"yellow\")\n",
    "canvas.create_oval(130, 150, 180, 200, fill=\"white\")\n",
    "canvas.create_oval(220, 150, 270, 200, fill=\"white\")\n",
    "canvas.create_oval(145, 165, 170, 190, fill=\"black\")\n",
    "canvas.create_oval(230, 165, 255, 190, fill=\"black\")\n",
    "canvas.create_arc(150, 200, 250, 275, start=180, extent=180, fill=\"red\")\n",
    "window.mainloop()"
   ]
  },
  {
   "cell_type": "markdown",
   "metadata": {},
   "source": [
    "# Question 3"
   ]
  },
  {
   "cell_type": "code",
   "execution_count": null,
   "metadata": {},
   "outputs": [],
   "source": [
    "from tkinter import *\n",
    "from tkinter import messagebox\n",
    "\n",
    "window = Tk()\n",
    "window.title(\"A simple GUI\")\n",
    "label = Label(window, text=\"This is our first GUI!\")\n",
    "label.pack()\n",
    "button1 = Button(window, text=\"Greet\")\n",
    "button1.pack()\n",
    "button2 = Button(window, text=\"Close\", command=window.quit)\n",
    "button2.pack()\n",
    "window.mainloop()"
   ]
  },
  {
   "cell_type": "markdown",
   "metadata": {},
   "source": [
    "# Question 4"
   ]
  },
  {
   "cell_type": "code",
   "execution_count": null,
   "metadata": {},
   "outputs": [],
   "source": [
    "from tkinter import *\n",
    "from tkinter import messagebox\n",
    "\n",
    "window = Tk()\n",
    "window.title(\"A simple GUI\")\n",
    "label = Label(window, text=\"This is our first GUI!\")\n",
    "label.pack()\n",
    "def greet():\n",
    "    messagebox.showinfo(\"Greeting\", \"Hello!\")\n",
    "button1 = Button(window, text=\"Greet\", command=greet)\n",
    "button1.pack()\n",
    "button2 = Button(window, text=\"Close\", command=window.quit)\n",
    "button2.pack()\n",
    "window.mainloop()"
   ]
  },
  {
   "cell_type": "markdown",
   "metadata": {},
   "source": [
    "# Question 5"
   ]
  },
  {
   "cell_type": "code",
   "execution_count": null,
   "metadata": {},
   "outputs": [],
   "source": [
    "from tkinter import *\n",
    "\n",
    "window = Tk()\n",
    "window.title(\"Select a bank\")\n",
    "window.geometry(\"300x300\")\n",
    "var = StringVar()\n",
    "r1 = Radiobutton(window, text=\"SBI\", value=\"SBI\", variable=var)\n",
    "r1.pack()\n",
    "r2 = Radiobutton(window, text=\"ICICI\", value=\"ICICI\", variable=var)\n",
    "r2.pack()\n",
    "r3 = Radiobutton(window, text=\"HDFC\", value=\"HDFC\", variable=var)\n",
    "r3.pack()\n",
    "r4 = Radiobutton(window, text=\"Axis\", value=\"Axis\", variable=var)\n",
    "r4.pack()\n",
    "r5 = Radiobutton(window, text=\"Kotak\", value=\"Kotak\", variable=var)\n",
    "r5.pack()\n",
    "button = Button(window, text=\"Submit\", command=lambda: print(var.get()))\n",
    "button.pack()\n",
    "window.mainloop()"
   ]
  },
  {
   "cell_type": "markdown",
   "metadata": {},
   "source": [
    "# Question 6"
   ]
  },
  {
   "cell_type": "code",
   "execution_count": null,
   "metadata": {},
   "outputs": [],
   "source": [
    "from tkinter import *\n",
    "\n",
    "window = Tk()\n",
    "window.geometry(\"400x200\")\n",
    "text = Text(window, height=10, width=30)\n",
    "text.grid(row=0, column=0, columnspan=3, rowspan=2)\n",
    "label = Label(window, text=\"Name:\")\n",
    "label.grid(row=0, column=3, columnspan=2)\n",
    "entry = Entry(window)\n",
    "entry.grid(row=1, column=3, columnspan=2)\n",
    "checkbox1 = Checkbutton(window, text=\"One\")\n",
    "checkbox1.grid(row=2, column=0)\n",
    "checkbox2 = Checkbutton(window, text=\"Two\")\n",
    "checkbox2.grid(row=2, column=1)\n",
    "checkbox3 = Checkbutton(window, text=\"Three\")\n",
    "checkbox3.grid(row=2, column=2)\n",
    "button1 = Button(window, text=\"Ok\")\n",
    "button1.grid(row=2, column=3)\n",
    "button2 = Button(window, text=\"Cancel\")\n",
    "button2.grid(row=2, column=4)\n",
    "window.mainloop()"
   ]
  },
  {
   "cell_type": "markdown",
   "metadata": {},
   "source": [
    "# Question 7"
   ]
  },
  {
   "cell_type": "code",
   "execution_count": null,
   "metadata": {},
   "outputs": [],
   "source": [
    "from tkinter import *\n",
    "\n",
    "window = Tk()\n",
    "entry = Entry(window, width=10)\n",
    "entry.pack()\n",
    "def submit():\n",
    "    name = entry.get()\n",
    "    print(name)\n",
    "button = Button(window, text=\"Submit\", command=submit)\n",
    "button.pack()\n",
    "window.mainloop()"
   ]
  },
  {
   "cell_type": "markdown",
   "metadata": {},
   "source": [
    "# Question 8"
   ]
  },
  {
   "cell_type": "code",
   "execution_count": null,
   "metadata": {},
   "outputs": [],
   "source": [
    "# Write a Python program that implements a temperature converter application using Tkinter, allowing users to convert between Celsius and Fahrenheit.\n",
    "\n",
    "from tkinter import *\n",
    "\n",
    "window = Tk()\n",
    "window.title(\"Temperature Converter\")\n",
    "celsius_label = Label(window, text=\"Celsius:\")\n",
    "celsius_label.grid(row=0, column=0)\n",
    "celsius_entry = Entry(window, width=10)\n",
    "celsius_entry.grid(row=0, column=1)\n",
    "fahrenheit_label = Label(window, text=\"Fahrenheit:\")\n",
    "fahrenheit_label.grid(row=1, column=0)\n",
    "fahrenheit_entry = Entry(window, width=10)\n",
    "fahrenheit_entry.grid(row=1, column=1)\n",
    "def convert():\n",
    "    if celsius_entry.get() != \"\":\n",
    "        fahrenheit = (float(celsius_entry.get()) * 9/5) + 32\n",
    "        fahrenheit_entry.delete(0, END)\n",
    "        fahrenheit_entry.insert(0, str(fahrenheit))\n",
    "    elif fahrenheit_entry.get() != \"\":\n",
    "        celsius = (float(fahrenheit_entry.get()) - 32) * 5/9\n",
    "        celsius_entry.delete(0, END)\n",
    "        celsius_entry.insert(0, str(celsius))\n",
    "\n",
    "convert_button = Button(window, text=\"Convert\", command=convert)\n",
    "convert_button.grid(row=2, column=0, columnspan=2)\n",
    "window.mainloop()"
   ]
  },
  {
   "cell_type": "markdown",
   "metadata": {},
   "source": [
    "# Question 9"
   ]
  },
  {
   "cell_type": "code",
   "execution_count": null,
   "metadata": {},
   "outputs": [],
   "source": [
    "from tkinter import *\n",
    "\n",
    "window = Tk()\n",
    "red_label = Label(window, text=\"Red\", bg=\"red\", fg=\"white\")\n",
    "red_label.pack()\n",
    "green_label = Label(window, text=\"Green\", bg=\"green\", fg=\"black\")\n",
    "green_label.pack()\n",
    "orange_label = Label(window, text=\"Blue\", bg=\"blue\", fg=\"white\")\n",
    "orange_label.pack()\n",
    "white_label = Label(window, text=\"White\", bg=\"white\", fg=\"black\")\n",
    "white_label.pack()\n",
    "yellow_label = Label(window, text=\"Yellow\", bg=\"yellow\", fg=\"black\")\n",
    "yellow_label.pack()\n",
    "blue_label = Label(window, text=\"Orange\", bg=\"orange\", fg=\"black\")\n",
    "blue_label.pack()\n",
    "window.mainloop()"
   ]
  },
  {
   "cell_type": "markdown",
   "metadata": {},
   "source": [
    "# Question 10"
   ]
  },
  {
   "cell_type": "code",
   "execution_count": null,
   "metadata": {},
   "outputs": [],
   "source": [
    "from tkinter import *\n",
    "from tkinter import messagebox\n",
    "\n",
    "window = Tk()\n",
    "menubar = Menu(window)\n",
    "window.config(menu=menubar)\n",
    "file_menu = Menu(menubar)\n",
    "menubar.add_cascade(label=\"File\", menu=file_menu)\n",
    "file_menu.add_command(label=\"New File\", command=lambda: messagebox.showinfo(\"New File\", \"New File Created\"))\n",
    "file_menu.add_command(label=\"New Project\", command=lambda: messagebox.showinfo(\"New Project\", \"New Project Created\"))\n",
    "file_menu.add_separator()\n",
    "file_menu.add_command(label=\"Quit\", command=window.quit)\n",
    "edit_menu = Menu(menubar)\n",
    "menubar.add_cascade(label=\"Edit\", menu=edit_menu)\n",
    "edit_menu.add_command(label=\"Cut\")\n",
    "edit_menu.add_command(label=\"Copy\")\n",
    "edit_menu.add_separator()\n",
    "edit_menu.add_command(label=\"Paste\")\n",
    "window.mainloop()"
   ]
  }
 ],
 "metadata": {
  "language_info": {
   "name": "python"
  }
 },
 "nbformat": 4,
 "nbformat_minor": 2
}
