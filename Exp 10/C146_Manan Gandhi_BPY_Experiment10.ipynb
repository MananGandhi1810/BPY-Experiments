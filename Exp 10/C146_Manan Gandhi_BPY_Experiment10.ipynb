{
 "cells": [
  {
   "cell_type": "markdown",
   "metadata": {},
   "source": [
    "# Question 1\n",
    "\n",
    "Write a Python program to match a string that contains only upper and lowercase letters, numbers, and underscores."
   ]
  },
  {
   "cell_type": "code",
   "execution_count": 13,
   "metadata": {},
   "outputs": [
    {
     "name": "stdout",
     "output_type": "stream",
     "text": [
      "True\n"
     ]
    }
   ],
   "source": [
    "import re\n",
    "\n",
    "regex = \"[A-Za-z0-9_]+\"\n",
    "s = \"MananGandhi\"\n",
    "\n",
    "print(bool(re.match(regex, s)))"
   ]
  },
  {
   "cell_type": "markdown",
   "metadata": {},
   "source": [
    "# Question 2\n",
    "Write a regex so that the full email addresses are extracted"
   ]
  },
  {
   "cell_type": "code",
   "execution_count": 14,
   "metadata": {},
   "outputs": [
    {
     "name": "stdout",
     "output_type": "stream",
     "text": [
      "['manan@manangandhi.tech']\n"
     ]
    }
   ],
   "source": [
    "import re\n",
    "\n",
    "regex = r\"[a-zA-Z_%-.0-9]+@[a-zA-Z]+\\.[a-zA-Z]{2,}\"\n",
    "\n",
    "test_str = \"Manan <manan@manangandhi.tech>\"\n",
    "print(re.findall(regex, test_str))"
   ]
  },
  {
   "cell_type": "markdown",
   "metadata": {},
   "source": [
    "# Question 3\n",
    "Write a Python program to check for a 9 digit valid mobile number"
   ]
  },
  {
   "cell_type": "code",
   "execution_count": 17,
   "metadata": {},
   "outputs": [
    {
     "name": "stdout",
     "output_type": "stream",
     "text": [
      "True\n"
     ]
    }
   ],
   "source": [
    "import re\n",
    "\n",
    "regex = r\"[0-9]{9}\"\n",
    "s = \"932186283\"\n",
    "\n",
    "print(bool(re.match(regex, s)))"
   ]
  },
  {
   "cell_type": "markdown",
   "metadata": {},
   "source": [
    "# Question 4\n",
    "Write a Python program to search the numbers (0-9) of length between 1 to 3 in a given string."
   ]
  },
  {
   "cell_type": "code",
   "execution_count": 1,
   "metadata": {},
   "outputs": [
    {
     "name": "stdout",
     "output_type": "stream",
     "text": [
      "True\n"
     ]
    }
   ],
   "source": [
    "import re\n",
    "\n",
    "regex = r\"[0-9]{1,3}\"\n",
    "s = \"932186283\"\n",
    "\n",
    "print(bool(re.match(regex, s)))"
   ]
  },
  {
   "cell_type": "markdown",
   "metadata": {},
   "source": [
    "# Question 5\n",
    "Write a Python program to search some literals strings in a string.\n",
    "\n",
    "Sample text : 'The quick brown fox jumps over the lazy dog.'\n",
    "\n",
    "Searched words : 'fox', 'dog', 'horse'"
   ]
  },
  {
   "cell_type": "code",
   "execution_count": 7,
   "metadata": {},
   "outputs": [
    {
     "name": "stdout",
     "output_type": "stream",
     "text": [
      "fox found\n",
      "dog found\n",
      "horse not found\n"
     ]
    }
   ],
   "source": [
    "import re\n",
    "\n",
    "text = 'The quick brown fox jumps over the lazy dog.'\n",
    "words = ['fox', 'dog', 'horse']\n",
    "\n",
    "for word in words:\n",
    "    if re.search(word, text):\n",
    "        print(f\"{word} found\")\n",
    "    else:\n",
    "        print(f\"{word} not found\")"
   ]
  },
  {
   "cell_type": "markdown",
   "metadata": {},
   "source": [
    "# Question 6\n",
    "Write a Python program to search a literals string in a string and also find the location within the original string where the pattern occurs. Sample text : 'The quick brown fox jumps over the lazy dog.'\n",
    "\n",
    "Searched words : 'fox'"
   ]
  },
  {
   "cell_type": "code",
   "execution_count": 8,
   "metadata": {},
   "outputs": [
    {
     "name": "stdout",
     "output_type": "stream",
     "text": [
      "fox found at 16\n",
      "dog found at 40\n",
      "horse not found\n"
     ]
    }
   ],
   "source": [
    "import re\n",
    "\n",
    "text = 'The quick brown fox jumps over the lazy dog.'\n",
    "words = ['fox', 'dog', 'horse']\n",
    "\n",
    "for word in words:\n",
    "    if re.search(word, text):\n",
    "        print(f\"{word} found at {re.search(word, text).start()}\")\n",
    "    else:\n",
    "        print(f\"{word} not found\")"
   ]
  },
  {
   "cell_type": "markdown",
   "metadata": {},
   "source": [
    "# Question 7\n",
    "Write a Python program to extract year, month and date from a string."
   ]
  },
  {
   "cell_type": "code",
   "execution_count": 10,
   "metadata": {},
   "outputs": [
    {
     "name": "stdout",
     "output_type": "stream",
     "text": [
      "Year: 2006\n",
      "Month: 10\n",
      "Date: 18\n"
     ]
    }
   ],
   "source": [
    "import re\n",
    "\n",
    "text = '18-10-2006'\n",
    "regex = r\"([0-9]{2})-([0-9]{2})-([0-9]{4})\"\n",
    "\n",
    "match = re.match(regex, text)\n",
    "\n",
    "print(f\"Year: {match.group(3)}\")\n",
    "print(f\"Month: {match.group(2)}\")\n",
    "print(f\"Date: {match.group(1)}\")"
   ]
  }
 ],
 "metadata": {
  "kernelspec": {
   "display_name": "Python 3",
   "language": "python",
   "name": "python3"
  },
  "language_info": {
   "codemirror_mode": {
    "name": "ipython",
    "version": 3
   },
   "file_extension": ".py",
   "mimetype": "text/x-python",
   "name": "python",
   "nbconvert_exporter": "python",
   "pygments_lexer": "ipython3",
   "version": "3.9.6"
  }
 },
 "nbformat": 4,
 "nbformat_minor": 2
}
