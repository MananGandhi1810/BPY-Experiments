{
 "cells": [
  {
   "cell_type": "code",
   "execution_count": 30,
   "metadata": {},
   "outputs": [
    {
     "name": "stdout",
     "output_type": "stream",
     "text": [
      "New Delhi\n"
     ]
    }
   ],
   "source": [
    "capital_city = {\n",
    "    \"India\": \"New Delhi\",\n",
    "    \"Nepal\": \"Kathmandu\",\n",
    "    \"Italy\": \"Rome\",\n",
    "}\n",
    "print(capital_city[\"India\"])"
   ]
  },
  {
   "cell_type": "code",
   "execution_count": 31,
   "metadata": {},
   "outputs": [
    {
     "name": "stdout",
     "output_type": "stream",
     "text": [
      "{'India': 'New Delhi', 'Nepal': 'Kathmandu', 'Italy': 'Rome', 'USA': 'Washington DC'}\n"
     ]
    }
   ],
   "source": [
    "capital_city[\"USA\"] = \"Washington DC\"\n",
    "print(capital_city)"
   ]
  },
  {
   "cell_type": "code",
   "execution_count": 32,
   "metadata": {},
   "outputs": [
    {
     "name": "stdout",
     "output_type": "stream",
     "text": [
      "{'India': 'New Delhi', 'Nepal': 'Kathmandu', 'Italy': 'Rome', 'USA': 'Washington DC', 'Japan': 'Tokyo'}\n"
     ]
    }
   ],
   "source": [
    "capital_city.update({\"Japan\": \"Tokyo\"})\n",
    "print(capital_city)"
   ]
  },
  {
   "cell_type": "code",
   "execution_count": 33,
   "metadata": {},
   "outputs": [
    {
     "name": "stdout",
     "output_type": "stream",
     "text": [
      "{'India': 'New Delhi', 'Nepal': 'Kathmandu', 'USA': 'Washington DC', 'Japan': 'Tokyo'}\n",
      "{'India': 'New Delhi', 'USA': 'Washington DC', 'Japan': 'Tokyo'}\n"
     ]
    }
   ],
   "source": [
    "del capital_city[\"Italy\"]\n",
    "print(capital_city)\n",
    "capital_city.pop(\"Nepal\")\n",
    "print(capital_city)"
   ]
  },
  {
   "cell_type": "code",
   "execution_count": 34,
   "metadata": {},
   "outputs": [
    {
     "name": "stdout",
     "output_type": "stream",
     "text": [
      "{}\n"
     ]
    }
   ],
   "source": [
    "capital_city.clear()\n",
    "print(capital_city)"
   ]
  },
  {
   "cell_type": "code",
   "execution_count": 37,
   "metadata": {},
   "outputs": [
    {
     "name": "stdout",
     "output_type": "stream",
     "text": [
      "dict_keys(['India', 'Nepal', 'Italy', 'USA', 'Japan'])\n"
     ]
    }
   ],
   "source": [
    "capital_city = {\n",
    "    \"India\": \"New Delhi\",\n",
    "    \"Nepal\": \"Kathmandu\",\n",
    "    \"Italy\": \"Rome\",\n",
    "    \"USA\": \"Washington DC\",\n",
    "    \"Japan\": \"Tokyo\",\n",
    "}\n",
    "\n",
    "print(capital_city.keys())"
   ]
  },
  {
   "cell_type": "code",
   "execution_count": 38,
   "metadata": {},
   "outputs": [
    {
     "name": "stdout",
     "output_type": "stream",
     "text": [
      "5\n"
     ]
    }
   ],
   "source": [
    "print(len(capital_city))"
   ]
  },
  {
   "cell_type": "code",
   "execution_count": 43,
   "metadata": {},
   "outputs": [
    {
     "name": "stdout",
     "output_type": "stream",
     "text": [
      "{'India': 'New Delhi', 'Italy': 'Rome', 'Japan': 'Tokyo', 'Nepal': 'Kathmandu', 'USA': 'Washington DC'}\n"
     ]
    }
   ],
   "source": [
    "capital_city = {country: capital_city[country] for country in sorted(capital_city)}\n",
    "print(capital_city)"
   ]
  }
 ],
 "metadata": {
  "kernelspec": {
   "display_name": "Python 3",
   "language": "python",
   "name": "python3"
  },
  "language_info": {
   "codemirror_mode": {
    "name": "ipython",
    "version": 3
   },
   "file_extension": ".py",
   "mimetype": "text/x-python",
   "name": "python",
   "nbconvert_exporter": "python",
   "pygments_lexer": "ipython3",
   "version": "3.10.13"
  }
 },
 "nbformat": 4,
 "nbformat_minor": 2
}
