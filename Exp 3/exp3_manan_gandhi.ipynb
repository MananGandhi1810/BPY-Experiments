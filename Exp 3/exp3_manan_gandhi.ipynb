{
 "cells": [
  {
   "cell_type": "markdown",
   "metadata": {},
   "source": [
    "# Question 1\n",
    "Write a code for the following: (String Operations)\n",
    "\n",
    "● Reverse a sentence accepted as input by User\n",
    "\n",
    "● Find the characters at an odd position in string input by User\n",
    "\n",
    "● Check string starts with a specific character entered by the user\n",
    "\n",
    "● Remove all newlines from the String\n",
    "\n",
    "● Replace all occurrence of substring in string\n",
    "\n",
    "● Remove punctuation mark from list of string\n",
    "\n",
    "● Find the number of matching characters in two string\n",
    "\n",
    "● Convert a string into a list.\n",
    "\n",
    "● To find the Domain name from a string\n",
    "\n",
    "● To convert all string elements of the list to int.\n",
    "\n",
    "● Count Total numbers of upper case and lower case characters in input string\n",
    "\n",
    "● To find vowels in a string\n",
    "\n",
    "● To reverse a user input string\n",
    "\n",
    "● To sort a string in Python\n",
    "\n",
    "● To print input string in upper case and lower case\n",
    "\n",
    "● Convert Int To String In Python"
   ]
  },
  {
   "cell_type": "code",
   "execution_count": 2,
   "metadata": {},
   "outputs": [
    {
     "name": "stdout",
     "output_type": "stream",
     "text": [
      "nanaM\n"
     ]
    }
   ],
   "source": [
    "# Reverse a sentence accepted as input by User\n",
    "sentence = input(\"Enter a sentence: \")\n",
    "reverse = sentence[::-1]\n",
    "print(reverse)"
   ]
  },
  {
   "cell_type": "code",
   "execution_count": 2,
   "metadata": {},
   "outputs": [
    {
     "name": "stdout",
     "output_type": "stream",
     "text": [
      "aa"
     ]
    }
   ],
   "source": [
    "# Find the characters at an odd position in string input by User\n",
    "sentence = input(\"Enter a sentence: \")\n",
    "for i in range(1, len(sentence), 2):\n",
    "    print(sentence[i], end=\"\")"
   ]
  },
  {
   "cell_type": "code",
   "execution_count": 3,
   "metadata": {},
   "outputs": [
    {
     "name": "stdout",
     "output_type": "stream",
     "text": [
      "Sentence starts with M\n"
     ]
    }
   ],
   "source": [
    "# Check string starts with a specific character entered by the user\n",
    "sentence = input(\"Enter a sentence: \")\n",
    "char = input(\"Enter a character: \")\n",
    "if sentence.startswith(char):\n",
    "    print(\"Sentence starts with\", char)\n",
    "else:\n",
    "    print(\"Sentence does not start with\", char)"
   ]
  },
  {
   "cell_type": "code",
   "execution_count": 4,
   "metadata": {},
   "outputs": [
    {
     "name": "stdout",
     "output_type": "stream",
     "text": [
      "Manan\\nnvjdsn\n"
     ]
    }
   ],
   "source": [
    "# Remove all newlines from the String\n",
    "sentence = \"\"\"\n",
    "I\n",
    "am \n",
    "Manan Gandhi\n",
    "\"\"\"\n",
    "sentence = sentence.replace(\"\\n\", \"\")\n",
    "print(sentence)"
   ]
  },
  {
   "cell_type": "code",
   "execution_count": 7,
   "metadata": {},
   "outputs": [
    {
     "name": "stdout",
     "output_type": "stream",
     "text": [
      "I am Manan Gandhi\n"
     ]
    }
   ],
   "source": [
    "# Replace all occurrence of substring in string\n",
    "sentence = input(\"Enter a sentence: \")\n",
    "substring = input(\"Enter a substring: \")\n",
    "replacement = input(\"Enter a replacement: \")\n",
    "sentence = sentence.replace(substring, replacement)\n",
    "print(sentence)"
   ]
  },
  {
   "cell_type": "code",
   "execution_count": 8,
   "metadata": {},
   "outputs": [
    {
     "name": "stdout",
     "output_type": "stream",
     "text": [
      "I am Manan Gandhi\n"
     ]
    }
   ],
   "source": [
    "# Remove punctuation mark from list of string\n",
    "punctuations = [\",\", \".\", \"!\", \"?\", \";\", \":\"]\n",
    "sentence = input(\"Enter a sentence: \")\n",
    "for punctuation in punctuations:\n",
    "    sentence = sentence.replace(punctuation, \"\")\n",
    "print(sentence)"
   ]
  },
  {
   "cell_type": "code",
   "execution_count": 9,
   "metadata": {},
   "outputs": [
    {
     "name": "stdout",
     "output_type": "stream",
     "text": [
      "7\n"
     ]
    }
   ],
   "source": [
    "# Find the number of matching characters in two string\n",
    "string1 = input(\"Enter string 1: \")\n",
    "string2 = input(\"Enter string 2: \")\n",
    "count = 0\n",
    "for char in string1:\n",
    "    if char in string2:\n",
    "        count += 1\n",
    "print(count)"
   ]
  },
  {
   "cell_type": "code",
   "execution_count": 10,
   "metadata": {},
   "outputs": [
    {
     "name": "stdout",
     "output_type": "stream",
     "text": [
      "['Manan', 'gandhi']\n"
     ]
    }
   ],
   "source": [
    "# Convert a string into a list.\n",
    "sentence = input(\"Enter a sentence: \")\n",
    "list_of_words = sentence.split()\n",
    "print(list_of_words)"
   ]
  },
  {
   "cell_type": "code",
   "execution_count": 14,
   "metadata": {},
   "outputs": [
    {
     "name": "stdout",
     "output_type": "stream",
     "text": [
      "manangandhi.tech\n"
     ]
    }
   ],
   "source": [
    "# To find the Domain name from a string\n",
    "url = input(\"Enter a url: \")\n",
    "if url.startswith(\"https://\") or url.startswith(\"http://\"):\n",
    "    url = url.replace(\"https://\", \"\")\n",
    "    url = url.replace(\"http://\", \"\")\n",
    "domain = url.split(\"/\")[0]\n",
    "print(domain)"
   ]
  },
  {
   "cell_type": "code",
   "execution_count": 16,
   "metadata": {},
   "outputs": [
    {
     "name": "stdout",
     "output_type": "stream",
     "text": [
      "[1, 2, 5, 1004]\n"
     ]
    }
   ],
   "source": [
    "# To convert all string elements of the list to int\n",
    "l = [\"1\", \"2\", \"5\", \"1004\"]\n",
    "result = [int(i) for i in l]\n",
    "print(result)"
   ]
  },
  {
   "cell_type": "code",
   "execution_count": 19,
   "metadata": {},
   "outputs": [
    {
     "name": "stdout",
     "output_type": "stream",
     "text": [
      "Lowercase: 4\n",
      "Uppercase: 1\n"
     ]
    }
   ],
   "source": [
    "# Count Total numbers of upper case and lower case characters in input string\n",
    "sentence = input(\"Enter a string: \")\n",
    "upper = 0\n",
    "lower = 0\n",
    "upper_letters = \"ABCDEFGHIJKLMNOPQRSTUVWXYZ\"\n",
    "lower_letters = upper_letters.lower()\n",
    "for char in sentence:\n",
    "    if char in upper_letters:\n",
    "        upper += 1\n",
    "    if char in lower_letters:\n",
    "        lower += 1\n",
    "print(\"Lowercase: \" + str(lower))\n",
    "print(\"Uppercase: \" + str(upper))"
   ]
  },
  {
   "cell_type": "code",
   "execution_count": 20,
   "metadata": {},
   "outputs": [
    {
     "name": "stdout",
     "output_type": "stream",
     "text": [
      "a\n",
      "a\n"
     ]
    }
   ],
   "source": [
    "# To find vowels in a string\n",
    "s = input(\"Enter a string: \")\n",
    "for i in s:\n",
    "    if i in \"AEIOUaeiou\":\n",
    "        print(i)"
   ]
  },
  {
   "cell_type": "code",
   "execution_count": 21,
   "metadata": {},
   "outputs": [
    {
     "name": "stdout",
     "output_type": "stream",
     "text": [
      "nanaM\n"
     ]
    }
   ],
   "source": [
    "# To reverse a user input string\n",
    "sentence = input(\"Enter a string: \")\n",
    "reverse = sentence[::-1]\n",
    "print(reverse)"
   ]
  },
  {
   "cell_type": "code",
   "execution_count": 24,
   "metadata": {},
   "outputs": [
    {
     "name": "stdout",
     "output_type": "stream",
     "text": [
      "aamnn\n"
     ]
    }
   ],
   "source": [
    "# To sort a string in Python\n",
    "sentence = input(\"Enter a string: \")\n",
    "sentence = \"\".join(sorted(sentence))\n",
    "print(sentence)"
   ]
  },
  {
   "cell_type": "code",
   "execution_count": 25,
   "metadata": {},
   "outputs": [
    {
     "name": "stdout",
     "output_type": "stream",
     "text": [
      "MANAN\n",
      "manan\n"
     ]
    }
   ],
   "source": [
    "# To print input string in upper case and lower case\n",
    "sentence = input(\"Enter a string: \")\n",
    "print(sentence.upper())\n",
    "print(sentence.lower())"
   ]
  },
  {
   "cell_type": "code",
   "execution_count": 29,
   "metadata": {},
   "outputs": [
    {
     "name": "stdout",
     "output_type": "stream",
     "text": [
      "2\n"
     ]
    }
   ],
   "source": [
    "# Convert Int To String In Python\n",
    "number = int(input(\"Enter a number: \"))\n",
    "print(str(number))"
   ]
  },
  {
   "cell_type": "markdown",
   "metadata": {},
   "source": [
    "# Question 2\n",
    "Write a Python program to accept a string and replace all spaces by ‘#’ symbol."
   ]
  },
  {
   "cell_type": "code",
   "execution_count": 30,
   "metadata": {},
   "outputs": [
    {
     "name": "stdout",
     "output_type": "stream",
     "text": [
      "I#am#Manan#Gandhi\n"
     ]
    }
   ],
   "source": [
    "sentence = input(\"Enter a string: \")\n",
    "sentence = sentence.replace(\" \", \"#\")\n",
    "print(sentence)"
   ]
  },
  {
   "cell_type": "markdown",
   "metadata": {},
   "source": [
    "# Question 3\n",
    "Write a program to accept two strings from the user and display the common words (ignore case)"
   ]
  },
  {
   "cell_type": "code",
   "execution_count": 32,
   "metadata": {},
   "outputs": [
    {
     "name": "stdout",
     "output_type": "stream",
     "text": [
      "I\n",
      "am\n",
      "Manan\n"
     ]
    }
   ],
   "source": [
    "str1 = input(\"Enter a string: \")\n",
    "str2 = input(\"Enter a string: \")\n",
    "for i in str1.split():\n",
    "    if i.lower() in str2.lower():\n",
    "        print(i)"
   ]
  },
  {
   "cell_type": "markdown",
   "metadata": {},
   "source": [
    "# Question 4\n",
    "Write a program to accept a string and count the frequency of each vowel."
   ]
  },
  {
   "cell_type": "code",
   "execution_count": 34,
   "metadata": {},
   "outputs": [
    {
     "name": "stdout",
     "output_type": "stream",
     "text": [
      "a: 1\n",
      "e: 1\n",
      "i: 1\n",
      "o: 1\n",
      "u: 1\n"
     ]
    }
   ],
   "source": [
    "sentence = input(\"Enter a string: \")\n",
    "frequency = {}\n",
    "for i in sentence:\n",
    "    if not i in \"AEIOUaeiou\":\n",
    "        continue\n",
    "    if i in frequency:\n",
    "        frequency[i.lower()] += 1\n",
    "    else:\n",
    "        frequency[i.lower()] = 1\n",
    "for key, value in frequency.items():\n",
    "    print(f\"{key}: {value}\")"
   ]
  },
  {
   "cell_type": "markdown",
   "metadata": {},
   "source": [
    "# Question 5\n",
    "Create a list in python for storing supermarket bill details and perform the following operations on it:\n",
    "\n",
    "● List indices\n",
    "\n",
    "● Add an item to the end of the list\n",
    "\n",
    "● Insert an item at a given position\n",
    "\n",
    "● Modify an element by using the index of the element\n",
    "\n",
    "● Remove an item from the list\n",
    "\n",
    "● Remove all items from the list\n",
    "\n",
    "● Slice Elements from a List\n",
    "\n",
    "● Remove the item at the given position in the list, and return it\n",
    "\n",
    "● Return the index in the list of the first item whose value is x\n",
    "\n",
    "● Return the number of times 'x' appear in the list\n",
    "\n",
    "● Sort the items of the list in place\n",
    "\n",
    "● Reverse the elements of the list in place"
   ]
  },
  {
   "cell_type": "code",
   "execution_count": 28,
   "metadata": {},
   "outputs": [
    {
     "name": "stdout",
     "output_type": "stream",
     "text": [
      "1: Rice\n",
      "2: Wheat\n",
      "3: Oil\n",
      "4: Sugar\n",
      "5: Salt\n",
      "['Rice', 'Wheat', 'Oil', 'Sugar', 'Salt', 'Biscuit']\n",
      "['Rice', 'Biscuit', 'Wheat', 'Oil', 'Sugar', 'Salt', 'Biscuit']\n",
      "['Rice', 'Vegetables', 'Wheat', 'Oil', 'Sugar', 'Salt', 'Biscuit']\n",
      "['Rice', 'Vegetables', 'Oil', 'Sugar', 'Salt', 'Biscuit']\n",
      "[]\n",
      "['Wheat', 'Oil', 'Sugar']\n",
      "Oil\n",
      "['Rice', 'Wheat', 'Sugar', 'Salt']\n",
      "0\n",
      "['Rice', 'Salt', 'Sugar', 'Wheat']\n",
      "['Wheat', 'Sugar', 'Salt', 'Rice']\n"
     ]
    }
   ],
   "source": [
    "items = [\"Rice\", \"Wheat\", \"Oil\", \"Sugar\", \"Salt\"]\n",
    "for i in range(len(items)):\n",
    "    print(f\"{i+1}: {items[i]}\")\n",
    "new_item = input(\"Enter a new item: \")\n",
    "items.append(new_item)\n",
    "print(items)\n",
    "new_item = input(\"Enter a new item: \")\n",
    "index = int(input(\"Enter index: \"))\n",
    "items.insert(index, new_item)\n",
    "print(items)\n",
    "index = int(input(\"Enter index: \"))\n",
    "items[index] = input(\"Enter a new item: \")\n",
    "print(items)\n",
    "index = int(input(\"Enter index: \"))\n",
    "items.pop(index)\n",
    "print(items)\n",
    "items.clear()\n",
    "print(items)\n",
    "items = [\"Rice\", \"Wheat\", \"Oil\", \"Sugar\", \"Salt\"]\n",
    "print(items[1:4])\n",
    "index = int(input(\"Enter index: \"))\n",
    "removed_item = items.pop(index)\n",
    "print(removed_item)\n",
    "print(items)\n",
    "count = 0\n",
    "for item in items:\n",
    "    if \"x\" in item:\n",
    "        count += 1\n",
    "print(count)\n",
    "items.sort()\n",
    "print(items)\n",
    "items.reverse()\n",
    "print(items)"
   ]
  },
  {
   "cell_type": "markdown",
   "metadata": {},
   "source": [
    "# Question 6\n",
    "Write a python program to count unique values inside a list"
   ]
  },
  {
   "cell_type": "code",
   "execution_count": 36,
   "metadata": {},
   "outputs": [
    {
     "name": "stdout",
     "output_type": "stream",
     "text": [
      "[10, 3, 4]\n"
     ]
    }
   ],
   "source": [
    "l = [1, 2, 5, 6, 7, 8, 9, 10, 1, 2, 3, 4, 5, 6, 7, 8, 9]\n",
    "unique = []\n",
    "for i in l:\n",
    "    if i in unique:\n",
    "        unique.remove(i)\n",
    "    else:\n",
    "        unique.append(i)\n",
    "print(unique)"
   ]
  },
  {
   "cell_type": "markdown",
   "metadata": {},
   "source": [
    "# Question 7\n",
    "Write a python program to print a list excluding the duplicates"
   ]
  },
  {
   "cell_type": "code",
   "execution_count": 38,
   "metadata": {},
   "outputs": [
    {
     "name": "stdout",
     "output_type": "stream",
     "text": [
      "[1, 2, 3, 4, 5, 6, 7, 8, 9, 10]\n"
     ]
    }
   ],
   "source": [
    "l = [1, 2, 5, 6, 7, 8, 9, 10, 1, 2, 3, 4, 5, 6, 7, 8, 9]\n",
    "l_without_duplicates = list(set(l))\n",
    "print(l_without_duplicates)"
   ]
  },
  {
   "cell_type": "markdown",
   "metadata": {},
   "source": [
    "# Question 8\n",
    "Write a python program to count positive and negative numbers in a list"
   ]
  },
  {
   "cell_type": "code",
   "execution_count": 40,
   "metadata": {},
   "outputs": [
    {
     "name": "stdout",
     "output_type": "stream",
     "text": [
      "positive: 10\n",
      "negative: 10\n"
     ]
    }
   ],
   "source": [
    "l = [1, 2, 3, 4, 5, 6, 7, 8, 9, 10, -1, -2, -3, -4, -5, -6, -7, -8, -9, -10]\n",
    "positive = 0\n",
    "negative = 0\n",
    "for i in l:\n",
    "    if i > 0:\n",
    "        positive += 1\n",
    "    else:\n",
    "        negative += 1\n",
    "print(f\"positive: {positive}\")\n",
    "print(f\"negative: {negative}\")"
   ]
  },
  {
   "cell_type": "markdown",
   "metadata": {},
   "source": [
    "# Question 9\n",
    "Write a python program to sum all the elements in a list."
   ]
  },
  {
   "cell_type": "code",
   "execution_count": 41,
   "metadata": {},
   "outputs": [
    {
     "name": "stdout",
     "output_type": "stream",
     "text": [
      "55\n"
     ]
    }
   ],
   "source": [
    "l = [1, 2, 3, 4, 5, 6, 7, 8, 9, 10]\n",
    "s = sum(l)\n",
    "print(s)"
   ]
  },
  {
   "cell_type": "markdown",
   "metadata": {},
   "source": [
    "# Question 10\n",
    "Write a Python program to find the list of words that are longer than n from a given list of words."
   ]
  },
  {
   "cell_type": "code",
   "execution_count": 42,
   "metadata": {},
   "outputs": [
    {
     "name": "stdout",
     "output_type": "stream",
     "text": [
      "Manan\n",
      "Gandhi\n"
     ]
    }
   ],
   "source": [
    "sentence = input(\"Enter a sentence: \")\n",
    "n = 4\n",
    "words = sentence.split()\n",
    "for word in words:\n",
    "    if len(word)>n:\n",
    "        print(word)"
   ]
  },
  {
   "cell_type": "markdown",
   "metadata": {},
   "source": [
    "# Question 11\n",
    "Write a Python program to compute the difference between two lists. Sample data: [\"red\", \"orange\", \"green\", \"blue\", \"white\"], [\"black\", \"yellow\", \"green\", \"blue\"] Expected Output: Color1-Color2: ['white', 'orange', 'red'] Color2-Color1: ['black', 'yellow']"
   ]
  },
  {
   "cell_type": "code",
   "execution_count": 43,
   "metadata": {},
   "outputs": [
    {
     "name": "stdout",
     "output_type": "stream",
     "text": [
      "['red', 'orange', 'white']\n",
      "['black', 'yellow']\n"
     ]
    }
   ],
   "source": [
    "l1 = [\"red\", \"orange\", \"green\", \"blue\", \"white\"]\n",
    "l2 = [\"black\", \"yellow\", \"green\", \"blue\"]\n",
    "res1 = []\n",
    "res2 = []\n",
    "for i in l1:\n",
    "    if i not in l2:\n",
    "        res1.append(i)\n",
    "for i in l2:\n",
    "    if i not in l1:\n",
    "        res2.append(i)\n",
    "print(res1)\n",
    "print(res2)"
   ]
  },
  {
   "cell_type": "markdown",
   "metadata": {},
   "source": [
    "# Question 12\n",
    "Write a Python program to concatenate elements of a list."
   ]
  },
  {
   "cell_type": "code",
   "execution_count": 45,
   "metadata": {},
   "outputs": [
    {
     "name": "stdout",
     "output_type": "stream",
     "text": [
      "[1, 2, 3, 4, 5, 6, 7, 8]\n"
     ]
    }
   ],
   "source": [
    "l1 = [1, 2, 3, 4]\n",
    "l2 = [5, 6, 7, 8]\n",
    "res = l1+l2\n",
    "print(res)"
   ]
  },
  {
   "cell_type": "markdown",
   "metadata": {},
   "source": [
    "# Question 13\n",
    "Write a Python program to insert a given string at the beginning of all items in a list. Sample list : [1,2,3,4], string : emp Expected output : ['emp1', 'emp2', 'emp3', 'emp4']"
   ]
  },
  {
   "cell_type": "code",
   "execution_count": 46,
   "metadata": {},
   "outputs": [
    {
     "name": "stdout",
     "output_type": "stream",
     "text": [
      "['emp1', 'emp2', 'emp3', 'emp4', 'emp5']\n"
     ]
    }
   ],
   "source": [
    "l = [1,2,3,4,5]\n",
    "word = \"emp\"\n",
    "res = [f\"{word}{i}\" for i in l]\n",
    "print(res)"
   ]
  },
  {
   "cell_type": "markdown",
   "metadata": {},
   "source": [
    "# Question 14\n",
    "Write a Python program to find the list in a list of lists whose sum of elements is the highest. Sample lists: [1,2,3], [4,5,6], [10,11,12], [7,8,9] Expected Output: [10, 11, 12]"
   ]
  },
  {
   "cell_type": "code",
   "execution_count": 53,
   "metadata": {},
   "outputs": [
    {
     "name": "stdout",
     "output_type": "stream",
     "text": [
      "[32, 4, 24, 24, 4]\n"
     ]
    }
   ],
   "source": [
    "l = [[1,2,3,4,5], [1,2,4,4,5,5,6], [32,4,24,24,4]]\n",
    "res = [sum(i) for i in l]\n",
    "largest_index = 0\n",
    "for i in range(len(res)):\n",
    "    if res[i]>res[largest_index]:\n",
    "        largest_index = i\n",
    "print(l[largest_index])"
   ]
  }
 ],
 "metadata": {
  "kernelspec": {
   "display_name": "Python 3",
   "language": "python",
   "name": "python3"
  },
  "language_info": {
   "codemirror_mode": {
    "name": "ipython",
    "version": 3
   },
   "file_extension": ".py",
   "mimetype": "text/x-python",
   "name": "python",
   "nbconvert_exporter": "python",
   "pygments_lexer": "ipython3",
   "version": "3.10.13"
  }
 },
 "nbformat": 4,
 "nbformat_minor": 2
}
