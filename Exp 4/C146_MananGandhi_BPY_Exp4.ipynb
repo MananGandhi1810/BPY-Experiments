{
 "cells": [
  {
   "cell_type": "markdown",
   "metadata": {},
   "source": [
    "# Question 1\n",
    "Create a tuple for storing student information and perform the following functions:\n",
    "\n",
    "a. Print an item of the tuple\n",
    "\n",
    "b. Check if an element exists within a tuple\n",
    "\n",
    "c. Check number of times an item has repeated\n",
    "\n",
    "d. Remove an item from a tuple\n",
    "\n",
    "e. Slice a tuple\n",
    "\n",
    "f. Get the index of an item of the tuple\n",
    "\n",
    "g. Print the size of a tuple\n",
    "\n",
    "h. Modify items of a tuple"
   ]
  },
  {
   "cell_type": "code",
   "execution_count": 9,
   "metadata": {},
   "outputs": [
    {
     "name": "stdout",
     "output_type": "stream",
     "text": [
      "2\n",
      "True\n",
      "{11: 1, 54: 1, 2: 2, 5: 1, 55: 2, 84: 1}\n",
      "(11, 54, 5, 55, 84, 2, 55)\n",
      "7\n",
      "(11, 54, 5, 55, 84, 2, 55, 100)\n"
     ]
    }
   ],
   "source": [
    "t = (11, 54, 2, 5, 55, 84, 2, 55)\n",
    "print(t[2])\n",
    "print(2 in t)\n",
    "count = {}\n",
    "for i in t:\n",
    "    if i in count:\n",
    "        count[i] += 1\n",
    "    else:\n",
    "        count[i] = 1\n",
    "print(count)\n",
    "l = list(t)\n",
    "l.remove(2)\n",
    "t = tuple(l)\n",
    "print(t)\n",
    "print(len(t))\n",
    "l = list(t)\n",
    "l.append(100)\n",
    "t = tuple(l)\n",
    "print(t)"
   ]
  },
  {
   "cell_type": "markdown",
   "metadata": {},
   "source": [
    "# Question 2\n",
    "2.Develop a menu driven program for a food hub.\n",
    "\n",
    "Example:\n",
    "\n",
    "Please select option:\n",
    "\n",
    "1- Veg Menu\n",
    "\n",
    "2- Non-Veg Menu\n",
    "\n",
    "0- Exit\n",
    "\n",
    "Enter your choice: 1\n",
    "\n",
    "You have selected option 1 – Veg\n",
    "\n",
    "Select from the following options for Veg\n",
    "\n",
    "1- Veg Burger\n",
    "\n",
    "2- Veg Pizza\n",
    "\n",
    "3- Dosa\n",
    "\n",
    "Enter your choice: 2\n",
    "\n",
    "Do you wish to continue [Y/N] ? Y\n",
    "\n",
    "Select from the following options for Veg\n",
    "\n",
    "1- Veg Burger\n",
    "\n",
    "2- Veg Pizza\n",
    "\n",
    "3- Dosa\n",
    "\n",
    "Enter your choice: 1\n",
    "\n",
    "Do you wish to continue [Y/N] ? N\n",
    "\n",
    "Your order is : [“Veg Pizza”, “Veg Burger”]\n",
    "\n",
    "Perform operations accordingly.\n",
    "\n",
    "b. For the same above example include price. The output will look like\n",
    "\n",
    "{“Veg Pizza” : 120, “Veg Burger”: 110}. Also print the total price of user choice items."
   ]
  },
  {
   "cell_type": "code",
   "execution_count": 1,
   "metadata": {},
   "outputs": [
    {
     "name": "stdout",
     "output_type": "stream",
     "text": [
      "Menu: \n",
      "1. Veg Burger - 90\n",
      "2. Veg Pizza - 100\n",
      "3. Dosa - 40\n",
      "Your order: \n",
      "1. Veg Burger - 90\n",
      "Menu: \n",
      "1. Veg Burger - 90\n",
      "2. Veg Pizza - 100\n",
      "3. Dosa - 40\n",
      "Your order: \n",
      "1. Veg Burger - 90\n",
      "2. Veg Pizza - 100\n",
      "Thank you for ordering. Your total bill is: Rs. 190\n"
     ]
    }
   ],
   "source": [
    "menu = {\n",
    "    \"veg\": [\n",
    "        {\"name\": \"Veg Burger\", \"price\": 90},\n",
    "        {\"name\": \"Veg Pizza\", \"price\": 100},\n",
    "        {\"name\": \"Dosa\", \"price\": 40},\n",
    "    ],\n",
    "    \"non-veg\": [\n",
    "        {\"name\": \"Chicken Burger\", \"price\": 120},\n",
    "        {\"name\": \"Chicken Pizza\", \"price\": 150},\n",
    "        {\"name\": \"Chicken Fry\", \"price\": 80},\n",
    "    ],\n",
    "}\n",
    "\n",
    "\n",
    "def order(preference, order_list):\n",
    "    print(\"Menu: \")\n",
    "    for index, dish in enumerate(menu[preference]):\n",
    "        print(f\"{index + 1}. {dish['name']} - {dish['price']}\")\n",
    "    try:\n",
    "        choice = int(input(\"Enter your choice: \"))\n",
    "    except:\n",
    "        print(\"Invalid input\")\n",
    "        exit()\n",
    "    if choice > 3 or choice < 1:\n",
    "        print(\"Invalid input\")\n",
    "        exit()\n",
    "    order_list.append(menu[preference][choice - 1])\n",
    "    print(\"Your order: \")\n",
    "    for index, dish in enumerate(order_list):\n",
    "        print(f\"{index + 1}. {dish['name']} - {dish['price']}\")\n",
    "    want_more = input(\"Do you want to order more? (y/n): \")\n",
    "    if want_more == \"y\":\n",
    "        order(preference, order_list)\n",
    "    else:\n",
    "        total = 0\n",
    "        for dish in order_list:\n",
    "            total += dish[\"price\"]\n",
    "        print(f\"Thank you for ordering. Your total bill is: Rs. {total}\")\n",
    "\n",
    "\n",
    "order_list = []\n",
    "\n",
    "try:\n",
    "    choice = int(input(\"1. Veg\\n2. Non-Veg\\n3. Exit\\nEnter your preference: \"))\n",
    "    if choice == 3:\n",
    "        print(\"Exiting\")\n",
    "        exit()\n",
    "    choices = {1: \"veg\", 2: \"non-veg\"}\n",
    "    preference = choices[choice]\n",
    "    order(preference, order_list)\n",
    "except:\n",
    "    print(\"Invalid input\")\n",
    "    exit()"
   ]
  },
  {
   "cell_type": "code",
   "execution_count": null,
   "metadata": {},
   "outputs": [],
   "source": [
    "veg_menu = [\"Veg Roll\", \"Noodles\", \"Fried Rice\", \"Manchurian\", \"Soup\"]\n",
    "non_veg_menu = [\"Chicken Roll\", \"Noodles\", \"Fried Rice\", \"Chilli Chicken\", \"Soup\"]\n",
    "\n",
    "def order(preference, order_list):\n",
    "    menu = []\n",
    "    if preference == \"veg\":\n",
    "        menu = veg_menu\n",
    "    elif preference == \"non-veg\":\n",
    "        menu = non_veg_menu\n",
    "    else:\n",
    "        print(\"Enter a valid preference\")\n",
    "        return\n",
    "    for index, item in enumerate(menu):\n",
    "        print(index+1, item)\n",
    "    choice = int(input(\"Enter your choice: \"))\n",
    "    order_list.append(menu[choice-1])\n",
    "    print(\"Your order is: \", order_list)\n",
    "    for index, item in enumerate(order_list):\n",
    "        print(index+1, item)\n",
    "    want_more = input(\"Do you want to order more? (y/n): \")\n",
    "    if want_more == \"y\":\n",
    "        order(preference, order_list)\n",
    "    else:\n",
    "        print(\"Thank you for your order\")\n",
    "    \n",
    "preference = input(\"Enter your preference (veg/non-veg): \")\n",
    "order_list = []\n",
    "order(preference, order_list)"
   ]
  },
  {
   "cell_type": "markdown",
   "metadata": {},
   "source": [
    "# Question 3\n",
    "Write a Python script to concatenate following dictionaries to create a new one\n",
    "\n",
    "Sample Dictionary :\n",
    "\n",
    "dic1={1:10, 2:20}\n",
    "\n",
    "dic2={3:30, 4:40}\n",
    "\n",
    "dic3={5:50,6:60}\n",
    "\n",
    "Expected Result : {1: 10, 2: 20, 3: 30, 4: 40, 5: 50, 6: 60}"
   ]
  },
  {
   "cell_type": "code",
   "execution_count": 2,
   "metadata": {},
   "outputs": [
    {
     "name": "stdout",
     "output_type": "stream",
     "text": [
      "{1: 10, 2: 20, 3: 30, 4: 40, 5: 50, 6: 60}\n"
     ]
    }
   ],
   "source": [
    "dic1 = {1: 10, 2: 20}\n",
    "dic2 = {3: 30, 4: 40}\n",
    "dic3 = {5: 50, 6: 60}\n",
    "res = dic1\n",
    "res.update(dic2)\n",
    "res.update(dic3)\n",
    "print(res)"
   ]
  },
  {
   "cell_type": "markdown",
   "metadata": {},
   "source": [
    "# Question 4\n",
    "Write a Python script to print a dictionary where the keys are numbers between 1 and 15 (both included) and the values are square of keys.\n",
    "\n",
    "Sample Dictionary\n",
    "\n",
    "{1: 1, 2: 4, 3: 9, 4: 16, 5: 25, 6: 36, 7: 49, 8: 64, 9: 81, 10: 100, 11: 121, 12: 144, 13: 169, 14: 196, 15: 225}"
   ]
  },
  {
   "cell_type": "code",
   "execution_count": 6,
   "metadata": {},
   "outputs": [
    {
     "name": "stdout",
     "output_type": "stream",
     "text": [
      "{1: 1, 2: 4, 3: 9, 4: 16, 5: 25, 6: 36, 7: 49, 8: 64, 9: 81, 10: 100, 11: 121, 12: 144, 13: 169, 14: 196, 15: 225}\n"
     ]
    }
   ],
   "source": [
    "res = {x: x**2 for x in range(1,16)}\n",
    "print(res)"
   ]
  },
  {
   "cell_type": "markdown",
   "metadata": {},
   "source": [
    "# Question 5\n",
    "Write a Python program to print all unique values in a dictionary\n",
    "\n",
    "Sample Data : [{\"V\":\"S001\"}, {\"V\": \"S002\"}, {\"VI\": \"S001\"}, {\"VI\": \"S005\"}, {\"VII\":\"S005\"}, {\"V\":\"S009\"},{\"VIII\":\"S007\"}]\n",
    "\n",
    "Expected Output : Unique Values: {'S005', 'S002', 'S007', 'S001', 'S009'}"
   ]
  },
  {
   "cell_type": "code",
   "execution_count": 25,
   "metadata": {},
   "outputs": [
    {
     "name": "stdout",
     "output_type": "stream",
     "text": [
      "{'S002', 'S001', 'S007', 'S005', 'S009'}\n"
     ]
    }
   ],
   "source": [
    "sample_data = [{\"V\":\"S001\"}, {\"V\": \"S002\"}, {\"VI\": \"S001\"}, {\"VI\": \"S005\"}, {\"VII\":\"S005\"}, {\"V\":\"S009\"},{\"VIII\":\"S007\"}]\n",
    "unique = set(list(x.values())[0] for x in sample_data)\n",
    "print(unique)"
   ]
  },
  {
   "cell_type": "markdown",
   "metadata": {},
   "source": [
    "# Question 6\n",
    "Write a Python program to combine values in python list of dictionaries.\n",
    "\n",
    "Sample data: [{'item': 'item1', 'amount': 400}, {'item': 'item2', 'amount': 300}, {'item': 'item1', 'amount': 750}]\n",
    "\n",
    "Expected Output: Counter({'item1': 1150, 'item2': 300})"
   ]
  },
  {
   "cell_type": "code",
   "execution_count": 26,
   "metadata": {},
   "outputs": [
    {
     "name": "stdout",
     "output_type": "stream",
     "text": [
      "{'item1': 1150, 'item2': 300}\n"
     ]
    }
   ],
   "source": [
    "sample_data = [{'item': 'item1', 'amount': 400}, {'item': 'item2', 'amount': 300}, {'item': 'item1', 'amount': 750}]\n",
    "res = {}\n",
    "for x in sample_data:\n",
    "    if x[\"item\"] in res.keys():\n",
    "        res[x[\"item\"]] += x[\"amount\"]\n",
    "    else:\n",
    "        res[x[\"item\"]] = x[\"amount\"]\n",
    "print(res)"
   ]
  },
  {
   "cell_type": "markdown",
   "metadata": {},
   "source": [
    "# Question 7\n",
    "Write a Python program to get the top three items in a shop.\n",
    "\n",
    "Sample data: {'item1': 45.50, 'item2':35, 'item3': 41.30, 'item4':55, 'item5': 24}\n",
    "\n",
    "Expected Output:\n",
    "\n",
    "item4 55\n",
    "\n",
    "item1 45.5\n",
    "\n",
    "item3 41.3"
   ]
  },
  {
   "cell_type": "code",
   "execution_count": 33,
   "metadata": {},
   "outputs": [
    {
     "name": "stdout",
     "output_type": "stream",
     "text": [
      "{'item3': 41.3, 'item1': 45.5, 'item4': 55}\n"
     ]
    }
   ],
   "source": [
    "sample_data = {\"item1\": 45.50, \"item2\": 35, \"item3\": 41.30, \"item4\": 55, \"item5\": 24}\n",
    "top3 = {x: sample_data[x] for x in sorted(sample_data, key=sample_data.get)[-3:]}\n",
    "print(top3)"
   ]
  },
  {
   "cell_type": "markdown",
   "metadata": {},
   "source": [
    "# Question 8\n",
    "Write a Python program to filter the height and width of students, which are stored in a dictionary\n",
    "\n",
    "Original Dictionary:\n",
    "\n",
    "{'Cierra Vega': (6.2, 70), 'Alden Cantrell': (5.9, 65), 'Kierra Gentry': (6.0, 68), 'Pierre Cox': (5.8, 66)}\n",
    "\n",
    "Height > 6ft and Weight> 70kg:\n",
    "\n",
    "{'Cierra Vega': (6.2, 70)}"
   ]
  },
  {
   "cell_type": "code",
   "execution_count": 2,
   "metadata": {},
   "outputs": [
    {
     "name": "stdout",
     "output_type": "stream",
     "text": [
      "{'Cierra Vega': (6.2, 70)}\n"
     ]
    }
   ],
   "source": [
    "details = {'Cierra Vega': (6.2, 70), 'Alden Cantrell': (5.9, 65), 'Kierra Gentry': (6.0, 68), 'Pierre Cox': (5.8, 66)}\n",
    "result = {}\n",
    "for person in details.keys():\n",
    "    if details[person][0] >= 6 and details[person][1] >= 70:\n",
    "        result[person] = details[person]\n",
    "\n",
    "print(result)"
   ]
  },
  {
   "cell_type": "markdown",
   "metadata": {},
   "source": [
    "# Question 9\n",
    "Write a Python program to extract a list of values from a given list of dictionaries.\n",
    "\n",
    "Original Dictionary:\n",
    "\n",
    "[{'Math': 90, 'Science': 92}, {'Math': 89, 'Science': 94}, {'Math': 92, 'Science': 88}]\n",
    "\n",
    "Extract a list of values from said list of dictionaries where subject = Science\n",
    "\n",
    "[92, 94, 88]\n",
    "\n",
    "Original Dictionary:\n",
    "\n",
    "[{'Math': 90, 'Science': 92}, {'Math': 89, 'Science': 94}, {'Math': 92, 'Science': 88}]\n",
    "\n",
    "Extract a list of values from said list of dictionaries where subject = Math\n",
    "\n",
    "[90, 89, 92]"
   ]
  },
  {
   "cell_type": "code",
   "execution_count": 5,
   "metadata": {},
   "outputs": [
    {
     "name": "stdout",
     "output_type": "stream",
     "text": [
      "Science: [92, 94, 88]\n",
      "Math: [90, 89, 92]\n"
     ]
    }
   ],
   "source": [
    "data = [{'Math': 90, 'Science': 92}, {'Math': 89, 'Science': 94}, {'Math': 92, 'Science': 88}]\n",
    "result1 = []\n",
    "result2 = []\n",
    "for i in data:\n",
    "    result1.append(i['Science'])\n",
    "    result2.append(i['Math'])\n",
    "print(f\"Science: {result1}\")\n",
    "print(f\"Math: {result2}\")"
   ]
  },
  {
   "cell_type": "markdown",
   "metadata": {},
   "source": [
    "# Question 10\n",
    "Write a Python program to print a tuple with string formatting.\n",
    "\n",
    "Sample tuple : (100, 200, 300)\n",
    "\n",
    "Output : This is a tuple (100, 200, 300)"
   ]
  },
  {
   "cell_type": "code",
   "execution_count": 8,
   "metadata": {},
   "outputs": [
    {
     "name": "stdout",
     "output_type": "stream",
     "text": [
      "This is a tuple: (100, 200, 300)\n"
     ]
    }
   ],
   "source": [
    "t = (100, 200, 300)\n",
    "print(f\"This is a tuple: {t}\")"
   ]
  },
  {
   "cell_type": "markdown",
   "metadata": {},
   "source": [
    "# Question 11\n",
    "Write a Python program to sort a tuple by its float element.\n",
    "\n",
    "Sample data: [('item1', '12.20'), ('item2', '15.10'), ('item3', '24.5')]\n",
    "\n",
    "Expected Output: [('item3', '24.5'), ('item2', '15.10'), ('item1', '12.20')]"
   ]
  },
  {
   "cell_type": "code",
   "execution_count": 11,
   "metadata": {},
   "outputs": [
    {
     "name": "stdout",
     "output_type": "stream",
     "text": [
      "[('item3', '24.5'), ('item2', '15.10'), ('item1', '12.20')]\n"
     ]
    }
   ],
   "source": [
    "data = [('item1', '12.20'), ('item2', '15.10'), ('item3', '24.5')]\n",
    "result = sorted(data, key=lambda x: float(x[1]), reverse=True)\n",
    "print(result)"
   ]
  },
  {
   "cell_type": "markdown",
   "metadata": {},
   "source": [
    "# Question 12\n",
    "Write a Python program calculate the product, multiplying all the numbers of a given tuple.\n",
    "\n",
    "Original Tuple:\n",
    "\n",
    "(4, 3, 2, 2, -1, 18)\n",
    "\n",
    "Product - multiplying all the numbers of the said tuple: -864\n",
    "\n",
    "Original Tuple:\n",
    "\n",
    "(2, 4, 8, 8, 3, 2, 9)\n",
    "\n",
    "Product - multiplying all the numbers of the said tuple: 27648"
   ]
  },
  {
   "cell_type": "code",
   "execution_count": 16,
   "metadata": {},
   "outputs": [
    {
     "name": "stdout",
     "output_type": "stream",
     "text": [
      "(-3456, -2592, -1728, -1728, 864, -15552)\n",
      "(55296, 110592, 221184, 221184, 82944, 55296, 248832)\n"
     ]
    }
   ],
   "source": [
    "data1 = (4, 3, 2, 2, -1, 18)\n",
    "data2 = (2, 4, 8, 8, 3, 2, 9)\n",
    "result1 = tuple(x*(-864) for x in data1)\n",
    "result2 = tuple(x*27648 for x in data2)\n",
    "print(result1)\n",
    "print(result2)"
   ]
  },
  {
   "cell_type": "markdown",
   "metadata": {},
   "source": [
    "# Question 13\n",
    "Write a Python program to calculate the average value of the numbers in a given tuple of tuples.\n",
    "\n",
    "Original Tuple:\n",
    "\n",
    "((10, 10, 10, 12), (30, 45, 56, 45), (81, 80, 39, 32), (1, 2, 3, 4))\n",
    "\n",
    "Average value of the numbers of the said tuple of tuples:\n",
    "\n",
    "[30.5, 34.25, 27.0, 23.25]\n",
    "\n",
    "Original Tuple:\n",
    "\n",
    "((1, 1, -5), (30, -15, 56), (81, -60, -39), (-10, 2, 3))\n",
    "\n",
    "Average value of the numbers of the said tuple of tuples:\n",
    "\n",
    "[25.5, -18.0, 3.75]"
   ]
  },
  {
   "cell_type": "code",
   "execution_count": 17,
   "metadata": {},
   "outputs": [
    {
     "name": "stdout",
     "output_type": "stream",
     "text": [
      "[10.5, 44.0, 58.0, 2.5]\n",
      "[-1.0, 23.666666666666668, -6.0, -1.6666666666666667]\n"
     ]
    }
   ],
   "source": [
    "data1 = ((10, 10, 10, 12), (30, 45, 56, 45), (81, 80, 39, 32), (1, 2, 3, 4))\n",
    "data2 = ((1, 1, -5), (30, -15, 56), (81, -60, -39), (-10, 2, 3))\n",
    "result1 = [sum(x)/len(x) for x in data1]\n",
    "result2 = [sum(x)/len(x) for x in data2]\n",
    "print(result1)\n",
    "print(result2)"
   ]
  },
  {
   "cell_type": "markdown",
   "metadata": {},
   "source": [
    "# Question 14\n",
    "Write a Python program to check if a specified element presents in a tuple of tuples.\n",
    "\n",
    "Original list:\n",
    "\n",
    "(('Red', 'White', 'Blue'), ('Green', 'Pink', 'Purple'), ('Orange', 'Yellow', 'Lime'))\n",
    "\n",
    "Check if White present in said tuple of tuples!\n",
    "\n",
    "True\n",
    "\n",
    "Check if White present in said tuple of tuples!\n",
    "\n",
    "True\n",
    "\n",
    "Check if Olive present in said tuple of tuples!\n",
    "\n",
    "False"
   ]
  },
  {
   "cell_type": "code",
   "execution_count": 19,
   "metadata": {},
   "outputs": [
    {
     "name": "stdout",
     "output_type": "stream",
     "text": [
      "White is found\n",
      "Olive is not found\n"
     ]
    }
   ],
   "source": [
    "data = (('Red', 'White', 'Blue'), ('Green', 'Pink', 'Purple'), ('Orange', 'Yellow', 'Lime'))\n",
    "white_found = False\n",
    "olive_found = False\n",
    "for x in data:\n",
    "    if 'White' in x:\n",
    "        white_found = True\n",
    "    if 'Olive' in x:\n",
    "        olive_found = True\n",
    "print(f\"White {\"is found\" if white_found else \"is not found\"}\")\n",
    "print(f\"Olive {\"is found\" if olive_found else \"is not found\"}\")\n"
   ]
  },
  {
   "cell_type": "markdown",
   "metadata": {},
   "source": [
    "# Question 15\n",
    "Write a Python program to convert a given list of tuples to a list of lists.\n",
    "\n",
    "Original list of tuples: [(1, 2), (2, 3), (3, 4)]\n",
    "\n",
    "Convert the said list of tuples to a list of lists: [[1, 2], [2, 3], [3, 4]]\n",
    "\n",
    "Original list of tuples: [(1, 2), (2, 3, 5), (3, 4), (2, 3, 4, 2)]\n",
    "\n",
    "Convert the said list of tuples to a list of lists: [[1, 2], [2, 3, 5], [3, 4], [2, 3, 4, 2]]"
   ]
  },
  {
   "cell_type": "code",
   "execution_count": 21,
   "metadata": {},
   "outputs": [
    {
     "name": "stdout",
     "output_type": "stream",
     "text": [
      "[[1, 2], [2, 3], [3, 4]]\n",
      "[[1, 2], [2, 3, 5], [3, 4], [2, 3, 4, 2]]\n"
     ]
    }
   ],
   "source": [
    "data1 = [(1, 2), (2, 3), (3, 4)]\n",
    "data2 = [(1, 2), (2, 3, 5), (3, 4), (2, 3, 4, 2)]\n",
    "list_data1 = [list(x) for x in data1]\n",
    "list_data2 = [list(x) for x in data2]\n",
    "print(list_data1)\n",
    "print(list_data2)"
   ]
  }
 ],
 "metadata": {
  "kernelspec": {
   "display_name": "Python 3",
   "language": "python",
   "name": "python3"
  },
  "language_info": {
   "codemirror_mode": {
    "name": "ipython",
    "version": 3
   },
   "file_extension": ".py",
   "mimetype": "text/x-python",
   "name": "python",
   "nbconvert_exporter": "python",
   "pygments_lexer": "ipython3",
   "version": "3.12.1"
  }
 },
 "nbformat": 4,
 "nbformat_minor": 2
}
